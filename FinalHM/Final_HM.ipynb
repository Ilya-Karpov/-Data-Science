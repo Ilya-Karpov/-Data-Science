{
 "cells": [
  {
   "cell_type": "markdown",
   "metadata": {
    "id": "g1hQiFW7isGe"
   },
   "source": [
    "# Итоговая работа."
   ]
  },
  {
   "cell_type": "code",
   "execution_count": 313,
   "metadata": {
    "id": "NyZ7GotDi1Mp"
   },
   "outputs": [],
   "source": [
    "import matplotlib.pyplot as plt\n",
    "import numpy as np\n",
    "import seaborn as sns\n",
    "import math\n",
    "from scipy.optimize import minimize\n",
    "from sklearn.decomposition import TruncatedSVD\n",
    "import sympy as sym\n",
    "%matplotlib inline"
   ]
  },
  {
   "cell_type": "markdown",
   "metadata": {
    "id": "VZFf_auXisJd"
   },
   "source": [
    "## Задание 1"
   ]
  },
  {
   "cell_type": "markdown",
   "metadata": {
    "id": "ABMPXsuhisMO"
   },
   "source": [
    "Дана матрица рейтингов фильмов (строки - пользователи (10 человек), столбцы - фильмы (15 фильмов))"
   ]
  },
  {
   "cell_type": "code",
   "execution_count": 3,
   "metadata": {
    "id": "D4_Vshevi-4P"
   },
   "outputs": [],
   "source": [
    "raitings = np.array([[ 4,  4,  9,  4,  1,  6, 10,  7,  9,  6,  9,  2,  8,  6,  6],\n",
    "                     [ 9,  2,  5, 10,  7,  8, 10,  5,  6,  2,  1,  6,  8,  9,  7],\n",
    "                     [ 1,  6,  8,  8,  4,  9,  3,  8, 10,  5,  2,  6,  8,  1,  6],\n",
    "                     [ 6,  1,  9,  7,  7,  9,  2,  3,  5,  1,  6,  6,  3,  2,  7],\n",
    "                     [ 3,  7,  3,  5,  7,  9,  9,  6,  2,  9,  1,  2,  8, 10,  6],\n",
    "                     [ 8,  3,  7,  3,  8,  6,  1,  8,  8,  6,  1,  9,  4, 10,  1],\n",
    "                     [ 9,  8,  4,  8,  8, 10,  6,  1,  1,  2,  9,  5,  2,  7,  2],\n",
    "                     [ 4,  1,  6,  4,  3, 10,  4,  4,  2,  8,  7,  9,  3,  8,  3],\n",
    "                     [ 2,  7,  7,  6, 10,  6,  8,  9,  8,  6, 10,  1,  7, 10,  4],\n",
    "                     [ 5, 10,  8,  8,  9,  7,  2,  9,  9, 10,  8,  8,  8,  6, 10]])"
   ]
  },
  {
   "cell_type": "markdown",
   "metadata": {
    "id": "FuYpBPsTjBVa"
   },
   "source": [
    "**a)** Необходимо найти наиболее похожего пользователя по косинусной метрике для каждого из (ответ: 10 пар вида (x, y), где y - наиболее похожий пользователь на пользователя x)."
   ]
  },
  {
   "cell_type": "code",
   "execution_count": 300,
   "metadata": {},
   "outputs": [],
   "source": [
    "def cosine(x, y=raitings):\n",
    "    cosn = []\n",
    "    cosn.append(np.abs(1 - np.apply_along_axis(distance.cosine, -1, y, x)))\n",
    "    cosn = np.array(cosn)\n",
    "    cosn[cosn == 1] = 0\n",
    "    return cosn[0,:]\n",
    "\n",
    "max_cosine = np.apply_along_axis(cosine, -1, raitings)"
   ]
  },
  {
   "cell_type": "code",
   "execution_count": 301,
   "metadata": {},
   "outputs": [
    {
     "name": "stdout",
     "output_type": "stream",
     "text": [
      "Наиболее похожий пользователь 0 на пользователя 8\n",
      "Наиболее похожий пользователь 1 на пользователя 4\n",
      "Наиболее похожий пользователь 2 на пользователя 9\n",
      "Наиболее похожий пользователь 3 на пользователя 9\n",
      "Наиболее похожий пользователь 4 на пользователя 8\n",
      "Наиболее похожий пользователь 5 на пользователя 9\n",
      "Наиболее похожий пользователь 6 на пользователя 3\n",
      "Наиболее похожий пользователь 7 на пользователя 5\n",
      "Наиболее похожий пользователь 8 на пользователя 0\n",
      "Наиболее похожий пользователь 9 на пользователя 2\n"
     ]
    }
   ],
   "source": [
    "for i, j in enumerate(max_cosine.argmax(0)):\n",
    "    print(f'Наиболее похожий пользователь {i} на пользователя {j}' )"
   ]
  },
  {
   "cell_type": "markdown",
   "metadata": {},
   "source": [
    "**b)** Предположим, вы захотели сжать признаковые описания пользователя с 15 фильмов, до, скажем, 5-ти признаков, как вы это сделаете?"
   ]
  },
  {
   "cell_type": "code",
   "execution_count": 312,
   "metadata": {},
   "outputs": [
    {
     "data": {
      "text/plain": [
       "array([[23.41982063, -5.36092136,  3.83196779, -4.06950174,  1.10267269],\n",
       "       [24.76774917,  4.52188701,  1.35815965,  1.58128545,  8.59912002],\n",
       "       [22.27728589, -6.96492049, -4.84461485, -0.47661647,  3.37152266],\n",
       "       [19.4257757 ,  2.64575227, -6.86014009, -4.76604765,  1.96075707],\n",
       "       [22.8146354 ,  0.51464093,  7.70180188,  4.42379773,  1.29124163],\n",
       "       [21.76961656,  1.94294987, -4.56934779,  8.32306487, -2.21887359],\n",
       "       [21.23427453,  9.78047778,  1.16340271, -4.86074521, -2.60815471],\n",
       "       [19.97476815,  4.00048677, -1.67456316,  1.1512346 , -3.5637169 ],\n",
       "       [26.39306998, -3.03090482,  5.86422753, -1.67503491, -3.71500141],\n",
       "       [29.94016844, -4.82012297, -3.48912415,  0.05527083, -3.62526487]])"
      ]
     },
     "execution_count": 312,
     "metadata": {},
     "output_type": "execute_result"
    }
   ],
   "source": [
    "def TruncClassifier(raitings, k):\n",
    "    svd = TruncatedSVD(n_components = k)\n",
    "    raitings_reduced  = svd.fit_transform(raitings)\n",
    "    return raitings_reduced\n",
    "\n",
    "TruncClassifier(raitings, 5)  "
   ]
  },
  {
   "cell_type": "markdown",
   "metadata": {
    "id": "QRJEo5ydjFjG"
   },
   "source": [
    "## Задание 2"
   ]
  },
  {
   "cell_type": "markdown",
   "metadata": {
    "id": "39rGnTIojFlV"
   },
   "source": [
    "Вычислите производную $tg^2(sin(x) + cos(2x+3))$ в точке $x_0=1$ (на python и на бумаге)."
   ]
  },
  {
   "cell_type": "code",
   "execution_count": 48,
   "metadata": {},
   "outputs": [],
   "source": [
    "x = sym.Symbol('x')"
   ]
  },
  {
   "cell_type": "code",
   "execution_count": 49,
   "metadata": {},
   "outputs": [
    {
     "data": {
      "text/latex": [
       "$\\displaystyle 2 \\left(- 2 \\sin{\\left(2 x + 3 \\right)} + \\cos{\\left(x \\right)}\\right) \\left(\\tan^{2}{\\left(\\sin{\\left(x \\right)} + \\cos{\\left(2 x + 3 \\right)} \\right)} + 1\\right) \\tan{\\left(\\sin{\\left(x \\right)} + \\cos{\\left(2 x + 3 \\right)} \\right)}$"
      ],
      "text/plain": [
       "2*(-2*sin(2*x + 3) + cos(x))*(tan(sin(x) + cos(2*x + 3))**2 + 1)*tan(sin(x) + cos(2*x + 3))"
      ]
     },
     "execution_count": 49,
     "metadata": {},
     "output_type": "execute_result"
    }
   ],
   "source": [
    "res = sym.diff(sym.tan(sym.sin(x) + sym.cos(2*x+3))**2)\n",
    "res"
   ]
  },
  {
   "cell_type": "code",
   "execution_count": 50,
   "metadata": {},
   "outputs": [],
   "source": [
    "from scipy.misc import derivative"
   ]
  },
  {
   "cell_type": "code",
   "execution_count": 54,
   "metadata": {},
   "outputs": [
    {
     "data": {
      "text/latex": [
       "$\\displaystyle 55.3859176433136$"
      ],
      "text/plain": [
       "55.3859176433136"
      ]
     },
     "execution_count": 54,
     "metadata": {},
     "output_type": "execute_result"
    }
   ],
   "source": [
    "def f(x):\n",
    "    return sym.tan(sym.sin(x) + sym.cos(2*x+3))**2\n",
    "derivative(f, 1, dx=1e-6)"
   ]
  },
  {
   "cell_type": "markdown",
   "metadata": {},
   "source": [
    "Производная\n",
    "\n",
    "$tg^2(sin(x) + cos(2x+3))$\n",
    "\n",
    "$2tg(sin(x) + cos(2x+3))*(tg^2(sin(x) + cos(2x + 3)) + 1)*(cos(x) - 2*sin(2x+3))$\n"
   ]
  },
  {
   "cell_type": "code",
   "execution_count": 62,
   "metadata": {},
   "outputs": [
    {
     "data": {
      "text/plain": [
       "55.385917635337854"
      ]
     },
     "execution_count": 62,
     "metadata": {},
     "output_type": "execute_result"
    }
   ],
   "source": [
    "2 * np.tan(np.sin(1) + np.cos(2*1+3)) * (np.tan(np.sin(1) + np.cos(2*1+3))**2 + 1) * (np.cos(1) - 2*np.sin(2*1+3))"
   ]
  },
  {
   "cell_type": "markdown",
   "metadata": {
    "id": "T1y3_xiwjFpC"
   },
   "source": [
    "## Задание 3"
   ]
  },
  {
   "cell_type": "markdown",
   "metadata": {
    "id": "1EyIA1IQjU7w"
   },
   "source": [
    "Дана функция с неизвестными параметрами a и b, вам также известны значения функции fx в точках x. Найдите оптимальные параметры a, b, минимизирующие абсолютную ошибку **error**."
   ]
  },
  {
   "cell_type": "code",
   "execution_count": 113,
   "metadata": {
    "id": "eoBdc8Pwjhmk"
   },
   "outputs": [],
   "source": [
    "def f(x, a, b):\n",
    "    return np.e**a * np.sin(b*x) + x"
   ]
  },
  {
   "cell_type": "code",
   "execution_count": 114,
   "metadata": {
    "id": "nftvBKK2jho9"
   },
   "outputs": [],
   "source": [
    "x = np.array([0.        , 0.26315789, 0.52631579, 0.78947368, 1.05263158,\n",
    "              1.31578947, 1.57894737, 1.84210526, 2.10526316, 2.36842105,\n",
    "              2.63157895, 2.89473684, 3.15789474, 3.42105263, 3.68421053,\n",
    "              3.94736842, 4.21052632, 4.47368421, 4.73684211, 5.        ])"
   ]
  },
  {
   "cell_type": "code",
   "execution_count": 115,
   "metadata": {
    "id": "Dk9sBWrKjhrH"
   },
   "outputs": [],
   "source": [
    "fx = np.array([  0.        , -12.01819092, -18.90968634, -17.68786571,\n",
    "                -8.7529108 ,   4.27524517,  16.06801336,  21.81250213,\n",
    "                19.22059845,   9.48411207,  -3.22273056, -13.48576488,\n",
    "               -16.91096359, -11.95866834,  -0.58630088,  12.56873816,\n",
    "                22.12489421,  24.20292139,  18.04522521,   6.33211092])"
   ]
  },
  {
   "cell_type": "code",
   "execution_count": 116,
   "metadata": {
    "id": "X_4afDeijht2"
   },
   "outputs": [
    {
     "data": {
      "image/png": "[encoded data removed]",
      "text/plain": [
       "<Figure size 432x288 with 1 Axes>"
      ]
     },
     "metadata": {
      "needs_background": "light"
     },
     "output_type": "display_data"
    }
   ],
   "source": [
    "plt.plot(x, fx)\n",
    "plt.show()"
   ]
  },
  {
   "cell_type": "code",
   "execution_count": 117,
   "metadata": {
    "id": "oXoGpFu0i-6g"
   },
   "outputs": [],
   "source": [
    "def error(params):\n",
    "    return np.sum(np.abs(fx - f(x, params[0], params[1])))"
   ]
  },
  {
   "cell_type": "code",
   "execution_count": 187,
   "metadata": {},
   "outputs": [
    {
     "name": "stdout",
     "output_type": "stream",
     "text": [
      "Optimization terminated successfully.\n",
      "         Current function value: 228.356720\n",
      "         Iterations: 122\n",
      "         Function evaluations: 236\n"
     ]
    },
    {
     "data": {
      "text/plain": [
       " final_simplex: (array([[1.95282586, 1.56625208],\n",
       "       [1.95282585, 1.56625208],\n",
       "       [1.95282586, 1.56625208]]), array([228.3567197, 228.3567197, 228.3567197]))\n",
       "           fun: 228.3567196969465\n",
       "       message: 'Optimization terminated successfully.'\n",
       "          nfev: 236\n",
       "           nit: 122\n",
       "        status: 0\n",
       "       success: True\n",
       "             x: array([1.95282586, 1.56625208])"
      ]
     },
     "execution_count": 187,
     "metadata": {},
     "output_type": "execute_result"
    }
   ],
   "source": [
    "minimize(error, (0, 1), method = 'nelder-mead', options = {'xtol': 1e-8, 'disp': True})"
   ]
  },
  {
   "cell_type": "code",
   "execution_count": 185,
   "metadata": {},
   "outputs": [
    {
     "name": "stdout",
     "output_type": "stream",
     "text": [
      "Параметры a, b - 1.95282586, 1.56625208\n"
     ]
    }
   ],
   "source": [
    "print('Параметры a, b - 1.95282586, 1.56625208')"
   ]
  },
  {
   "cell_type": "markdown",
   "metadata": {
    "id": "4AXJ_r5UjrY5"
   },
   "source": [
    "## Задание 4"
   ]
  },
  {
   "cell_type": "markdown",
   "metadata": {
    "id": "zRnYGwhXjtQB"
   },
   "source": [
    "Создайте собственную дискретную случайную величину с 20 значениями. Сгенерируйте 1000 выборок размера 50. Посчитайте среднее для каждой выборки. Постройте гистограмму распределения средних."
   ]
  },
  {
   "cell_type": "code",
   "execution_count": 108,
   "metadata": {},
   "outputs": [
    {
     "data": {
      "text/plain": [
       "array([0.56194298, 0.77611272, 0.08075678, 0.75678377, 0.68665269,\n",
       "       0.17216013, 0.20551361, 0.16549715, 0.26143933, 0.81159026,\n",
       "       0.79867739, 0.98191481, 0.71503183, 0.41191969, 0.15241515,\n",
       "       0.63565807, 0.41676636, 0.09167592, 0.58500658, 0.64878126])"
      ]
     },
     "execution_count": 108,
     "metadata": {},
     "output_type": "execute_result"
    }
   ],
   "source": [
    "X = np.random.random(20)\n",
    "X"
   ]
  },
  {
   "cell_type": "code",
   "execution_count": 112,
   "metadata": {},
   "outputs": [
    {
     "data": {
      "text/plain": [
       "0.45560651338870384"
      ]
     },
     "execution_count": 112,
     "metadata": {},
     "output_type": "execute_result"
    }
   ],
   "source": [
    "X.mean()"
   ]
  },
  {
   "cell_type": "code",
   "execution_count": 111,
   "metadata": {},
   "outputs": [
    {
     "data": {
      "text/plain": [
       "<AxesSubplot:ylabel='Count'>"
      ]
     },
     "execution_count": 111,
     "metadata": {},
     "output_type": "execute_result"
    },
    {
     "data": {
      "image/png": "[encoded data removed]",
      "text/plain": [
       "<Figure size 432x288 with 1 Axes>"
      ]
     },
     "metadata": {
      "needs_background": "light"
     },
     "output_type": "display_data"
    }
   ],
   "source": [
    "mList=[]\n",
    "for kk in range(1000):\n",
    "    X = np.random.random(20)\n",
    "    mList.append(X.mean())\n",
    "    \n",
    "sns.histplot(mList)"
   ]
  },
  {
   "cell_type": "markdown",
   "metadata": {
    "id": "KJWpqOvPjt1E"
   },
   "source": [
    "## Задание 5"
   ]
  },
  {
   "cell_type": "markdown",
   "metadata": {
    "id": "48ezmZDMjvIY"
   },
   "source": [
    "Найдите собственные значения и собственные вектора матрицы (на python и на бумаге):"
   ]
  },
  {
   "cell_type": "code",
   "execution_count": 64,
   "metadata": {
    "id": "509GRSXskfQt"
   },
   "outputs": [
    {
     "name": "stdout",
     "output_type": "stream",
     "text": [
      "[[1 4]\n",
      " [1 1]]\n"
     ]
    }
   ],
   "source": [
    "m = np.array([[1, 4],\n",
    "              [1, 1]])\n",
    "print(m)"
   ]
  },
  {
   "cell_type": "code",
   "execution_count": 65,
   "metadata": {},
   "outputs": [
    {
     "data": {
      "text/plain": [
       "(array([ 3., -1.]),\n",
       " array([[ 0.89442719, -0.89442719],\n",
       "        [ 0.4472136 ,  0.4472136 ]]))"
      ]
     },
     "execution_count": 65,
     "metadata": {},
     "output_type": "execute_result"
    }
   ],
   "source": [
    "np.linalg.eig(m)"
   ]
  },
  {
   "cell_type": "markdown",
   "metadata": {},
   "source": [
    "Из свойств собственных значений получаем систему линейных уравнений:\n",
    "\n",
    "x + 4y = lx\n",
    "\n",
    "x + y = ly\n",
    "\n",
    "\n",
    "x(1-l) + 4y = 0\n",
    "\n",
    "x + y(1-l) = 0\n",
    "\n",
    "[1-l, 4\n",
    "\n",
    "1, 1-l]\n",
    "\n",
    "(1-l)*(1-l) - 4 = 0\n",
    "\n",
    "l^2 - 2l - 3 = 0\n",
    "\n",
    "Решив уравнение получаем 3 и -1\n",
    "\n",
    "Далее ищем собственные вектора для l=3 и l=-1\n",
    "\n",
    "Получаем [1, 0,5] и [1, -0.5] соответственно"
   ]
  }
 ],
 "metadata": {
  "colab": {
   "name": "HW_X",
   "provenance": []
  },
  "kernelspec": {
   "display_name": "Python 3",
   "language": "python",
   "name": "python3"
  },
  "language_info": {
   "codemirror_mode": {
    "name": "ipython",
    "version": 3
   },
   "file_extension": ".py",
   "mimetype": "text/x-python",
   "name": "python",
   "nbconvert_exporter": "python",
   "pygments_lexer": "ipython3",
   "version": "3.8.8"
  }
 },
 "nbformat": 4,
 "nbformat_minor": 1
}
