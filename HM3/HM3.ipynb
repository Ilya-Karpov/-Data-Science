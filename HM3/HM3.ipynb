{
 "cells": [
  {
   "cell_type": "markdown",
   "id": "c0c2e475",
   "metadata": {},
   "source": [
    "Задание №1\n",
    "\n",
    "Дан объект в 2d пространстве:\n",
    "\n",
    "import numpy as np\n",
    "\n",
    "import matplotlib.pyplot as plt\n",
    "\n",
    "A = [[-100, -100, 1],\n",
    "[-100, 100, 1],\n",
    "[100, 100, 1],\n",
    "[0, 0, 1],\n",
    "[100, -100, 1],\n",
    "[-100, -100, 1]]\n",
    "\n",
    "A = np.array(A)\n",
    "\n",
    "x = A[:,0]\n",
    "\n",
    "y = A[:,1]\n",
    "\n",
    "plt.plot(x, y)\n",
    "\n",
    "plt.ylim([-200, 200])\n",
    "\n",
    "plt.xlim([-200, 200])\n",
    "\n",
    "\n",
    "При помощи линейных отображений:\n",
    "\n",
    "● Уменьшить объект в два раза\n",
    "\n",
    "● Повернуть на 130 градусов\n",
    "\n",
    "● Отразить объект относительно прямой y=x\n",
    "\n",
    "● Вычислить определитель композиции преобразований\n",
    "(итоговой матрицы реализующей все три отображения)"
   ]
  },
  {
   "cell_type": "code",
   "execution_count": 1,
   "id": "2ae1a460",
   "metadata": {},
   "outputs": [],
   "source": [
    "import numpy as np"
   ]
  },
  {
   "cell_type": "code",
   "execution_count": 2,
   "id": "4590fe66",
   "metadata": {},
   "outputs": [],
   "source": [
    "import matplotlib.pyplot as plt"
   ]
  },
  {
   "cell_type": "code",
   "execution_count": 75,
   "id": "6c4af0da",
   "metadata": {},
   "outputs": [],
   "source": [
    "A = [[-100, -100, 1], [-100, 100, 1], [100, 100, 1], [0, 0, 1], [100, -100, 1], [-100, -100, 1]]"
   ]
  },
  {
   "cell_type": "code",
   "execution_count": 242,
   "id": "1a49c7da",
   "metadata": {},
   "outputs": [],
   "source": [
    "A = np.array(A)\n",
    "x = A[:, 0]\n",
    "y = A[:, 1]"
   ]
  },
  {
   "cell_type": "code",
   "execution_count": 77,
   "id": "98f9347c",
   "metadata": {},
   "outputs": [
    {
     "data": {
      "text/plain": [
       "(-200.0, 200.0)"
      ]
     },
     "execution_count": 77,
     "metadata": {},
     "output_type": "execute_result"
    },
    {
     "data": {
      "image/png": "[encoded data removed]",
      "text/plain": [
       "<Figure size 432x288 with 1 Axes>"
      ]
     },
     "metadata": {
      "needs_background": "light"
     },
     "output_type": "display_data"
    }
   ],
   "source": [
    "plt.plot(x, y)\n",
    "\n",
    "plt.ylim([-200, 200])\n",
    "\n",
    "plt.xlim([-200, 200])"
   ]
  },
  {
   "cell_type": "markdown",
   "id": "7a2427a7",
   "metadata": {},
   "source": [
    "Уменьшить объект в два раза"
   ]
  },
  {
   "cell_type": "code",
   "execution_count": 78,
   "id": "60c462f6",
   "metadata": {},
   "outputs": [],
   "source": [
    "B = np.array([[0.5, 0, 0], [0, 0.5, 0], [0, 0, 0.5]])"
   ]
  },
  {
   "cell_type": "code",
   "execution_count": 79,
   "id": "7c2808eb",
   "metadata": {},
   "outputs": [
    {
     "data": {
      "text/plain": [
       "array([[-100, -100,  100,    0,  100, -100],\n",
       "       [-100,  100,  100,    0, -100, -100],\n",
       "       [   1,    1,    1,    1,    1,    1]])"
      ]
     },
     "execution_count": 79,
     "metadata": {},
     "output_type": "execute_result"
    }
   ],
   "source": [
    "A.transpose()"
   ]
  },
  {
   "cell_type": "code",
   "execution_count": 80,
   "id": "f78d379a",
   "metadata": {},
   "outputs": [
    {
     "data": {
      "text/plain": [
       "array([[-50. , -50. ,   0.5],\n",
       "       [-50. ,  50. ,   0.5],\n",
       "       [ 50. ,  50. ,   0.5],\n",
       "       [  0. ,   0. ,   0.5],\n",
       "       [ 50. , -50. ,   0.5],\n",
       "       [-50. , -50. ,   0.5]])"
      ]
     },
     "execution_count": 80,
     "metadata": {},
     "output_type": "execute_result"
    }
   ],
   "source": [
    "C = B@A.transpose()\n",
    "D = C.transpose()\n",
    "D"
   ]
  },
  {
   "cell_type": "code",
   "execution_count": 81,
   "id": "9c5895b7",
   "metadata": {},
   "outputs": [
    {
     "data": {
      "text/plain": [
       "(-200.0, 200.0)"
      ]
     },
     "execution_count": 81,
     "metadata": {},
     "output_type": "execute_result"
    },
    {
     "data": {
      "image/png": "[encoded data removed]",
      "text/plain": [
       "<Figure size 432x288 with 1 Axes>"
      ]
     },
     "metadata": {
      "needs_background": "light"
     },
     "output_type": "display_data"
    }
   ],
   "source": [
    "A2 = np.array(D)\n",
    "x1 = A2[:, 0]\n",
    "y1 = A2[:, 1]\n",
    "\n",
    "plt.plot(x1, y1)\n",
    "plt.ylim([-200, 200])\n",
    "plt.xlim([-200, 200])"
   ]
  },
  {
   "cell_type": "markdown",
   "id": "a1289006",
   "metadata": {},
   "source": [
    "Повернуть на 130 градусов"
   ]
  },
  {
   "cell_type": "code",
   "execution_count": 131,
   "id": "5f38cd27",
   "metadata": {},
   "outputs": [
    {
     "data": {
      "text/plain": [
       "array([[-0.64278761,  0.76604444,  0.        ],\n",
       "       [-0.76604444, -0.64278761,  0.        ],\n",
       "       [ 0.        ,  0.        ,  1.        ]])"
      ]
     },
     "execution_count": 131,
     "metadata": {},
     "output_type": "execute_result"
    }
   ],
   "source": [
    "E = np.array([[np.cos(np.deg2rad(130)), np.sin(np.deg2rad(130)), 0],[-np.sin(np.deg2rad(130)), np.cos(np.deg2rad(130)), 0],[0, 0, 1]])\n",
    "E"
   ]
  },
  {
   "cell_type": "code",
   "execution_count": 132,
   "id": "9a068577",
   "metadata": {},
   "outputs": [
    {
     "data": {
      "text/plain": [
       "array([[ -12.32568334,  140.88320528,    1.        ],\n",
       "       [ 140.88320528,   12.32568334,    1.        ],\n",
       "       [  12.32568334, -140.88320528,    1.        ],\n",
       "       [   0.        ,    0.        ,    1.        ],\n",
       "       [-140.88320528,  -12.32568334,    1.        ],\n",
       "       [ -12.32568334,  140.88320528,    1.        ]])"
      ]
     },
     "execution_count": 132,
     "metadata": {},
     "output_type": "execute_result"
    }
   ],
   "source": [
    "Q = E @ A.transpose()\n",
    "W = Q.transpose()\n",
    "W "
   ]
  },
  {
   "cell_type": "code",
   "execution_count": 133,
   "id": "7d592485",
   "metadata": {},
   "outputs": [
    {
     "data": {
      "text/plain": [
       "(-200.0, 200.0)"
      ]
     },
     "execution_count": 133,
     "metadata": {},
     "output_type": "execute_result"
    },
    {
     "data": {
      "image/png": "[encoded data removed]",
      "text/plain": [
       "<Figure size 432x288 with 1 Axes>"
      ]
     },
     "metadata": {
      "needs_background": "light"
     },
     "output_type": "display_data"
    }
   ],
   "source": [
    "A3 = np.array(W)\n",
    "\n",
    "x1 = A3[:, 0]\n",
    "y1 = A3[:, 1]\n",
    "\n",
    "plt.plot(x1, y1)\n",
    "plt.ylim([-200, 200])\n",
    "plt.xlim([-200, 200])"
   ]
  },
  {
   "cell_type": "markdown",
   "id": "a4876e97",
   "metadata": {},
   "source": [
    "Отразить объект относительно прямой y=x"
   ]
  },
  {
   "cell_type": "code",
   "execution_count": 201,
   "id": "3a52ff2d",
   "metadata": {},
   "outputs": [],
   "source": [
    "R = [[1, 2, 0], [2, 1, 2], [0, 2, 1]]"
   ]
  },
  {
   "cell_type": "code",
   "execution_count": 202,
   "id": "14a08693",
   "metadata": {},
   "outputs": [
    {
     "data": {
      "text/plain": [
       "array([[1, 2, 0],\n",
       "       [2, 1, 2],\n",
       "       [0, 2, 1]])"
      ]
     },
     "execution_count": 202,
     "metadata": {},
     "output_type": "execute_result"
    }
   ],
   "source": [
    "R = np.array(R)\n",
    "R"
   ]
  },
  {
   "cell_type": "code",
   "execution_count": 203,
   "id": "bcef74b2",
   "metadata": {},
   "outputs": [
    {
     "data": {
      "text/plain": [
       "array([[-300, -298, -199],\n",
       "       [ 100,  -98,  201],\n",
       "       [ 300,  302,  201],\n",
       "       [   0,    2,    1],\n",
       "       [-100,  102, -199],\n",
       "       [-300, -298, -199]])"
      ]
     },
     "execution_count": 203,
     "metadata": {},
     "output_type": "execute_result"
    }
   ],
   "source": [
    "T = R @ A.transpose()\n",
    "Y = T.transpose()\n",
    "Y"
   ]
  },
  {
   "cell_type": "code",
   "execution_count": 205,
   "id": "ce1e7002",
   "metadata": {},
   "outputs": [
    {
     "data": {
      "text/plain": [
       "(-350.0, 350.0)"
      ]
     },
     "execution_count": 205,
     "metadata": {},
     "output_type": "execute_result"
    },
    {
     "data": {
      "image/png": "[encoded data removed]",
      "text/plain": [
       "<Figure size 432x288 with 1 Axes>"
      ]
     },
     "metadata": {
      "needs_background": "light"
     },
     "output_type": "display_data"
    }
   ],
   "source": [
    "A4 = np.array(Y)\n",
    "\n",
    "x1 = A4[:, 0]\n",
    "y1 = A4[:, 1]\n",
    "plt.grid()\n",
    "plt.plot(x1, y1)\n",
    "plt.ylim([-350, 350])\n",
    "plt.xlim([-350, 350])"
   ]
  },
  {
   "cell_type": "markdown",
   "id": "4f880527",
   "metadata": {},
   "source": [
    "Вычислить определитель композиции преобразований (итоговой матрицы реализующей все три отображения)"
   ]
  },
  {
   "cell_type": "code",
   "execution_count": 261,
   "id": "19ec0925",
   "metadata": {},
   "outputs": [
    {
     "data": {
      "text/plain": [
       "array([[-1.15057444e+09, -4.49170590e+08,  1.16750072e+09,\n",
       "         8.46313620e+06,  4.66096863e+08, -1.15057444e+09],\n",
       "       [-9.18780044e+08,  2.57601155e+08,  9.19766387e+08,\n",
       "         4.93171217e+05, -2.56614812e+08, -9.18780044e+08],\n",
       "       [ 1.15053497e+09,  4.49156757e+08, -1.16746066e+09,\n",
       "        -8.46284843e+06, -4.66082454e+08,  1.15053497e+09],\n",
       "       [-1.97397451e+04, -6.91656123e+03,  2.00275115e+04,\n",
       "         1.43883205e+02,  7.20432764e+03, -1.97397451e+04],\n",
       "       [ 9.18740565e+08, -2.57614988e+08, -9.19726332e+08,\n",
       "        -4.92883451e+05,  2.56629221e+08,  9.18740565e+08],\n",
       "       [-1.15057444e+09, -4.49170590e+08,  1.16750072e+09,\n",
       "         8.46313620e+06,  4.66096863e+08, -1.15057444e+09]])"
      ]
     },
     "execution_count": 261,
     "metadata": {},
     "output_type": "execute_result"
    }
   ],
   "source": [
    "L = A @ C @ W @ T #= A@A2.transpose()@A3@A4.transpose()\n",
    "L"
   ]
  },
  {
   "cell_type": "code",
   "execution_count": 262,
   "id": "997c419a",
   "metadata": {},
   "outputs": [
    {
     "data": {
      "text/plain": [
       "0.0"
      ]
     },
     "execution_count": 262,
     "metadata": {},
     "output_type": "execute_result"
    }
   ],
   "source": [
    "np.linalg.det(L)"
   ]
  },
  {
   "cell_type": "markdown",
   "id": "efb1b495",
   "metadata": {},
   "source": [
    "Задание №2\n",
    "\n",
    "Решите систему уравнений, используя матричный подход\n",
    "\n",
    "x + z = 2\n",
    "\n",
    "-x + y - 2z + w = -2\n",
    "\n",
    "4x + z - 2w = 0\n",
    "\n",
    "-4x + 4*y + w = 5"
   ]
  },
  {
   "cell_type": "code",
   "execution_count": 46,
   "id": "55d54ed9",
   "metadata": {},
   "outputs": [],
   "source": [
    "a = np.array([[1, 0, 1, 0], [-1, 1, -2, 1], [4, 0, 1, -2], [-4, 4, 0, 1]])\n",
    "b = np.array([2, -2, 0, 5])"
   ]
  },
  {
   "cell_type": "code",
   "execution_count": 48,
   "id": "17672445",
   "metadata": {},
   "outputs": [],
   "source": [
    "from numpy import linalg"
   ]
  },
  {
   "cell_type": "code",
   "execution_count": 49,
   "id": "e4e1682d",
   "metadata": {},
   "outputs": [
    {
     "data": {
      "text/plain": [
       "array([0., 1., 2., 1.])"
      ]
     },
     "execution_count": 49,
     "metadata": {},
     "output_type": "execute_result"
    }
   ],
   "source": [
    "linalg.solve(a, b)"
   ]
  }
 ],
 "metadata": {
  "kernelspec": {
   "display_name": "Python 3",
   "language": "python",
   "name": "python3"
  },
  "language_info": {
   "codemirror_mode": {
    "name": "ipython",
    "version": 3
   },
   "file_extension": ".py",
   "mimetype": "text/x-python",
   "name": "python",
   "nbconvert_exporter": "python",
   "pygments_lexer": "ipython3",
   "version": "3.8.8"
  }
 },
 "nbformat": 4,
 "nbformat_minor": 5
}
