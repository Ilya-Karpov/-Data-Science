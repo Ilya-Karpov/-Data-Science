{
 "cells": [
  {
   "cell_type": "markdown",
   "id": "2c0bf2b8",
   "metadata": {},
   "source": [
    "Задание 1\n",
    "\n",
    "Монетку подбрасывают 15 раз, найдите вероятность выпадения простого числа орлов."
   ]
  },
  {
   "cell_type": "markdown",
   "id": "60b92c6d",
   "metadata": {},
   "source": [
    "По результатам вычислений, используя формулу Бернулли, сумма вероятностей выпадения простого числа (2, 3, 5, 7, 11, 13) орлов составила ≈ 35%"
   ]
  },
  {
   "cell_type": "markdown",
   "id": "4b826072",
   "metadata": {},
   "source": [
    " "
   ]
  },
  {
   "cell_type": "markdown",
   "id": "b6f8fb2e",
   "metadata": {},
   "source": [
    "Задание 2\n",
    "\n",
    "Получить интуицию, на что влияют параметры распределений. Построить по 5 функций плотностей с разными параметрами для каждого распределения: нормальное, экспоненциальное, Стьюдента на одном графике."
   ]
  },
  {
   "cell_type": "code",
   "execution_count": 1,
   "id": "7303a370",
   "metadata": {},
   "outputs": [],
   "source": [
    "import numpy as np"
   ]
  },
  {
   "cell_type": "code",
   "execution_count": 2,
   "id": "1df89aef",
   "metadata": {},
   "outputs": [],
   "source": [
    "import matplotlib.pyplot as plt"
   ]
  },
  {
   "cell_type": "code",
   "execution_count": 63,
   "id": "c754cd30",
   "metadata": {},
   "outputs": [],
   "source": [
    "norm1 = np.random.normal(loc = 1.0, scale = 1.0, size = (400000,))"
   ]
  },
  {
   "cell_type": "code",
   "execution_count": 73,
   "id": "45136842",
   "metadata": {},
   "outputs": [],
   "source": [
    "norm2 = np.random.normal(loc = 6.0, scale = 1.0, size = (400000,))"
   ]
  },
  {
   "cell_type": "code",
   "execution_count": 97,
   "id": "238ef5e3",
   "metadata": {},
   "outputs": [],
   "source": [
    "norm3 = np.random.normal(loc = 3.5, scale = 0.5, size = (400000,))"
   ]
  },
  {
   "cell_type": "code",
   "execution_count": 109,
   "id": "8ca45f0f",
   "metadata": {},
   "outputs": [],
   "source": [
    "norm4 = np.random.normal(loc = 10.0, scale = 0.3, size = (400,))"
   ]
  },
  {
   "cell_type": "code",
   "execution_count": 134,
   "id": "42ae9207",
   "metadata": {},
   "outputs": [],
   "source": [
    "norm5 = np.random.normal(loc = -4.0, scale = 4.0, size = (400000,))"
   ]
  },
  {
   "cell_type": "code",
   "execution_count": 135,
   "id": "0408060b",
   "metadata": {},
   "outputs": [
    {
     "data": {
      "image/png": "[encoded data removed]",
      "text/plain": [
       "<Figure size 432x288 with 1 Axes>"
      ]
     },
     "metadata": {
      "needs_background": "light"
     },
     "output_type": "display_data"
    }
   ],
   "source": [
    "plt.hist(norm1, bins = 100, density = True)\n",
    "plt.hist(norm2, bins = 100, density = True)\n",
    "plt.hist(norm3, bins = 100, density = True)\n",
    "plt.hist(norm4, bins = 100, density = True)\n",
    "plt.hist(norm5, bins = 100, density = True)\n",
    "plt.show()"
   ]
  },
  {
   "cell_type": "code",
   "execution_count": 214,
   "id": "eba3e545",
   "metadata": {},
   "outputs": [],
   "source": [
    "exp1 = np.random.exponential(scale = 0.5, size = (40000,))"
   ]
  },
  {
   "cell_type": "code",
   "execution_count": 215,
   "id": "15ed3b86",
   "metadata": {},
   "outputs": [],
   "source": [
    "exp2 = np.random.exponential(scale = 0.7, size = (40000,))"
   ]
  },
  {
   "cell_type": "code",
   "execution_count": 196,
   "id": "a3a71c89",
   "metadata": {},
   "outputs": [],
   "source": [
    "exp3 = np.random.exponential(scale = 1.0, size = (40000,))"
   ]
  },
  {
   "cell_type": "code",
   "execution_count": 205,
   "id": "235a03cd",
   "metadata": {},
   "outputs": [],
   "source": [
    "exp4 = np.random.exponential(scale = 1.0, size = (40000,))"
   ]
  },
  {
   "cell_type": "code",
   "execution_count": 217,
   "id": "85eda399",
   "metadata": {},
   "outputs": [],
   "source": [
    "exp5 = np.random.exponential(scale = 1.5, size = (40000,))"
   ]
  },
  {
   "cell_type": "code",
   "execution_count": 218,
   "id": "8b8a9646",
   "metadata": {},
   "outputs": [
    {
     "data": {
      "image/png": "[encoded data removed]",
      "text/plain": [
       "<Figure size 432x288 with 1 Axes>"
      ]
     },
     "metadata": {
      "needs_background": "light"
     },
     "output_type": "display_data"
    }
   ],
   "source": [
    "plt.hist(exp1, bins = 100, density = True)\n",
    "plt.hist(exp2, bins = 100, density = True)\n",
    "plt.hist(exp3, bins = 100, density = True)\n",
    "plt.hist(exp4, bins = 100, density = True)\n",
    "plt.hist(exp5, bins = 100, density = True)\n",
    "plt.show()"
   ]
  },
  {
   "cell_type": "code",
   "execution_count": 219,
   "id": "7843c6a0",
   "metadata": {},
   "outputs": [],
   "source": [
    "std1 = np.random.standard_t(10, size = (40000,))"
   ]
  },
  {
   "cell_type": "code",
   "execution_count": 244,
   "id": "5a63105b",
   "metadata": {},
   "outputs": [],
   "source": [
    "std2 = np.random.standard_t(200, size = (40,))"
   ]
  },
  {
   "cell_type": "code",
   "execution_count": 248,
   "id": "f9d8d8ab",
   "metadata": {},
   "outputs": [],
   "source": [
    "std3 = np.random.standard_t(20, size = (100,))"
   ]
  },
  {
   "cell_type": "code",
   "execution_count": 250,
   "id": "f6aa3e21",
   "metadata": {},
   "outputs": [],
   "source": [
    "std4 = np.random.standard_t(500, size = (400,))"
   ]
  },
  {
   "cell_type": "code",
   "execution_count": 253,
   "id": "990e4e82",
   "metadata": {},
   "outputs": [],
   "source": [
    "std5 = np.random.standard_t(1000, size = (40000000,))"
   ]
  },
  {
   "cell_type": "code",
   "execution_count": 255,
   "id": "4d574397",
   "metadata": {},
   "outputs": [
    {
     "data": {
      "image/png": "[encoded data removed]",
      "text/plain": [
       "<Figure size 432x288 with 1 Axes>"
      ]
     },
     "metadata": {
      "needs_background": "light"
     },
     "output_type": "display_data"
    }
   ],
   "source": [
    "plt.hist(std1, bins = 100, density = True)\n",
    "plt.hist(std2, bins = 100, density = True)\n",
    "plt.hist(std3, bins = 100, density = True)\n",
    "plt.hist(std4, bins = 100, density = True)\n",
    "plt.hist(std5, bins = 100, density = True)\n",
    "plt.show()"
   ]
  }
 ],
 "metadata": {
  "kernelspec": {
   "display_name": "Python 3",
   "language": "python",
   "name": "python3"
  },
  "language_info": {
   "codemirror_mode": {
    "name": "ipython",
    "version": 3
   },
   "file_extension": ".py",
   "mimetype": "text/x-python",
   "name": "python",
   "nbconvert_exporter": "python",
   "pygments_lexer": "ipython3",
   "version": "3.8.8"
  }
 },
 "nbformat": 4,
 "nbformat_minor": 5
}
