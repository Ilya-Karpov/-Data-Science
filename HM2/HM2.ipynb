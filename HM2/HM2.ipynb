{
 "cells": [
  {
   "cell_type": "markdown",
   "id": "9b250b8d",
   "metadata": {},
   "source": [
    "Домашнее задание:\n",
    "\n",
    "● Создайте случайную матрицу А1 размерностью 5 на 5\n",
    "\n",
    "● Транспонируйте матрицу A1\n",
    "\n",
    "● Найдите обратную матрицу для А1\n",
    "\n",
    "● Создайте диагональную матрицу - поэлементно перемножив единичную матрицу I и случайную матрицу A2 размерности 4 на 4\n",
    "\n",
    "● Создайте нулевую матрицу размерности 3 на 3\n",
    "\n",
    "● Для всех полученных матриц найдите: определитель, ранг и собственные значения\n",
    "\n",
    "● Проанализируйте результаты"
   ]
  },
  {
   "cell_type": "code",
   "execution_count": 1,
   "id": "ebda40d2",
   "metadata": {},
   "outputs": [],
   "source": [
    "import numpy as np"
   ]
  },
  {
   "cell_type": "code",
   "execution_count": 7,
   "id": "6ca484c9",
   "metadata": {},
   "outputs": [
    {
     "data": {
      "text/plain": [
       "array([[0.35538564, 0.28688919, 0.05934876, 0.25136323, 0.23569517],\n",
       "       [0.25831663, 0.18560213, 0.96637782, 0.84319107, 0.19260623],\n",
       "       [0.35432412, 0.9812762 , 0.30404618, 0.19114427, 0.37658946],\n",
       "       [0.30766199, 0.01207745, 0.43663345, 0.93551661, 0.47622607],\n",
       "       [0.1069983 , 0.36527618, 0.75671844, 0.12501368, 0.45837879]])"
      ]
     },
     "execution_count": 7,
     "metadata": {},
     "output_type": "execute_result"
    }
   ],
   "source": [
    "A1 = np.random.random((5, 5))\n",
    "A1"
   ]
  },
  {
   "cell_type": "code",
   "execution_count": 8,
   "id": "aee1c638",
   "metadata": {},
   "outputs": [
    {
     "data": {
      "text/plain": [
       "array([[0.35538564, 0.25831663, 0.35432412, 0.30766199, 0.1069983 ],\n",
       "       [0.28688919, 0.18560213, 0.9812762 , 0.01207745, 0.36527618],\n",
       "       [0.05934876, 0.96637782, 0.30404618, 0.43663345, 0.75671844],\n",
       "       [0.25136323, 0.84319107, 0.19114427, 0.93551661, 0.12501368],\n",
       "       [0.23569517, 0.19260623, 0.37658946, 0.47622607, 0.45837879]])"
      ]
     },
     "execution_count": 8,
     "metadata": {},
     "output_type": "execute_result"
    }
   ],
   "source": [
    "np.transpose(A1)"
   ]
  },
  {
   "cell_type": "code",
   "execution_count": 9,
   "id": "82a43b6d",
   "metadata": {},
   "outputs": [
    {
     "data": {
      "text/plain": [
       "array([[ 5.72440151,  0.8871291 , -1.94577336, -1.98634932,  0.34606463],\n",
       "       [-1.72410734,  0.07131849,  1.78777534,  0.13412431, -0.75156936],\n",
       "       [ 0.56447399,  0.9620082 , -0.6678651 , -1.0018947 ,  0.895126  ],\n",
       "       [-1.93759309,  0.2335467 ,  1.00014833,  1.35220269, -1.32837889],\n",
       "       [-0.3657415 , -1.91574776, -0.14067771,  1.64198687,  1.5842994 ]])"
      ]
     },
     "execution_count": 9,
     "metadata": {},
     "output_type": "execute_result"
    }
   ],
   "source": [
    "np.linalg.inv(A1)"
   ]
  },
  {
   "cell_type": "code",
   "execution_count": 23,
   "id": "c22010b6",
   "metadata": {},
   "outputs": [],
   "source": [
    "A2 = np.random.random((4, 4))\n",
    "I = np.eye(4)"
   ]
  },
  {
   "cell_type": "code",
   "execution_count": 43,
   "id": "c734c05d",
   "metadata": {},
   "outputs": [
    {
     "data": {
      "text/plain": [
       "array([[0.43050202, 0.        , 0.        , 0.        ],\n",
       "       [0.        , 0.52447816, 0.        , 0.        ],\n",
       "       [0.        , 0.        , 0.40718253, 0.        ],\n",
       "       [0.        , 0.        , 0.        , 0.68519322]])"
      ]
     },
     "execution_count": 43,
     "metadata": {},
     "output_type": "execute_result"
    }
   ],
   "source": [
    "A3 = I * A2\n",
    "A3"
   ]
  },
  {
   "cell_type": "code",
   "execution_count": 30,
   "id": "19a09de3",
   "metadata": {},
   "outputs": [
    {
     "data": {
      "text/plain": [
       "array([[0., 0., 0.],\n",
       "       [0., 0., 0.],\n",
       "       [0., 0., 0.]])"
      ]
     },
     "execution_count": 30,
     "metadata": {},
     "output_type": "execute_result"
    }
   ],
   "source": [
    "A4 = np.zeros([3, 3])\n",
    "A4"
   ]
  },
  {
   "cell_type": "markdown",
   "id": "aecdd119",
   "metadata": {},
   "source": [
    "Вычисление определителя для полученных матриц:"
   ]
  },
  {
   "cell_type": "code",
   "execution_count": 48,
   "id": "f66e5036",
   "metadata": {},
   "outputs": [
    {
     "data": {
      "text/plain": [
       "-0.05322315104309332"
      ]
     },
     "execution_count": 48,
     "metadata": {},
     "output_type": "execute_result"
    }
   ],
   "source": [
    "np.linalg.det(A1)"
   ]
  },
  {
   "cell_type": "code",
   "execution_count": 44,
   "id": "0320ee7f",
   "metadata": {},
   "outputs": [
    {
     "data": {
      "text/plain": [
       "0.06299481291951547"
      ]
     },
     "execution_count": 44,
     "metadata": {},
     "output_type": "execute_result"
    }
   ],
   "source": [
    "np.linalg.det(A3)"
   ]
  },
  {
   "cell_type": "code",
   "execution_count": 42,
   "id": "4a42b578",
   "metadata": {},
   "outputs": [
    {
     "data": {
      "text/plain": [
       "0.0"
      ]
     },
     "execution_count": 42,
     "metadata": {},
     "output_type": "execute_result"
    }
   ],
   "source": [
    "np.linalg.det(A4)"
   ]
  },
  {
   "cell_type": "markdown",
   "id": "fa1fa084",
   "metadata": {},
   "source": [
    "Вычисление ранга для полученных матриц:"
   ]
  },
  {
   "cell_type": "code",
   "execution_count": 31,
   "id": "2ceeba59",
   "metadata": {},
   "outputs": [
    {
     "data": {
      "text/plain": [
       "5"
      ]
     },
     "execution_count": 31,
     "metadata": {},
     "output_type": "execute_result"
    }
   ],
   "source": [
    "np.linalg.matrix_rank(A1)"
   ]
  },
  {
   "cell_type": "code",
   "execution_count": 45,
   "id": "0c4e9d91",
   "metadata": {},
   "outputs": [
    {
     "data": {
      "text/plain": [
       "4"
      ]
     },
     "execution_count": 45,
     "metadata": {},
     "output_type": "execute_result"
    }
   ],
   "source": [
    "np.linalg.matrix_rank(A3)"
   ]
  },
  {
   "cell_type": "code",
   "execution_count": 33,
   "id": "92dc00df",
   "metadata": {},
   "outputs": [
    {
     "data": {
      "text/plain": [
       "0"
      ]
     },
     "execution_count": 33,
     "metadata": {},
     "output_type": "execute_result"
    }
   ],
   "source": [
    "np.linalg.matrix_rank(A4)"
   ]
  },
  {
   "cell_type": "markdown",
   "id": "2cba38ac",
   "metadata": {},
   "source": [
    "Вычисление собственных значений для полученных матриц:"
   ]
  },
  {
   "cell_type": "code",
   "execution_count": 36,
   "id": "e2e2fb84",
   "metadata": {},
   "outputs": [
    {
     "data": {
      "text/plain": [
       "(array([ 2.03265723+0.j        , -0.67174155+0.j        ,\n",
       "         0.16578806+0.j        ,  0.35611281+0.32908816j,\n",
       "         0.35611281-0.32908816j]),\n",
       " array([[ 0.23961407+0.j        , -0.23209896+0.j        ,\n",
       "          0.90244163+0.j        , -0.13305254-0.03810294j,\n",
       "         -0.13305254+0.03810294j],\n",
       "        [ 0.54957768+0.j        ,  0.63135351+0.j        ,\n",
       "         -0.23185381+0.j        , -0.25364646+0.14537273j,\n",
       "         -0.25364646-0.14537273j],\n",
       "        [ 0.50358107+0.j        , -0.67835177+0.j        ,\n",
       "          0.07982543+0.j        ,  0.10321129+0.31022174j,\n",
       "          0.10321129-0.31022174j],\n",
       "        [ 0.4568914 +0.j        ,  0.14819431+0.j        ,\n",
       "         -0.3391871 +0.j        , -0.34665278-0.41346883j,\n",
       "         -0.34665278+0.41346883j],\n",
       "        [ 0.42214432+0.j        ,  0.25573451+0.j        ,\n",
       "         -0.10209277+0.j        ,  0.70523805+0.j        ,\n",
       "          0.70523805-0.j        ]]))"
      ]
     },
     "execution_count": 36,
     "metadata": {},
     "output_type": "execute_result"
    }
   ],
   "source": [
    "np.linalg.eig(A1)"
   ]
  },
  {
   "cell_type": "code",
   "execution_count": 46,
   "id": "c6a4f062",
   "metadata": {},
   "outputs": [
    {
     "data": {
      "text/plain": [
       "(array([0.43050202, 0.52447816, 0.40718253, 0.68519322]),\n",
       " array([[1., 0., 0., 0.],\n",
       "        [0., 1., 0., 0.],\n",
       "        [0., 0., 1., 0.],\n",
       "        [0., 0., 0., 1.]]))"
      ]
     },
     "execution_count": 46,
     "metadata": {},
     "output_type": "execute_result"
    }
   ],
   "source": [
    "np.linalg.eig(A3)"
   ]
  },
  {
   "cell_type": "code",
   "execution_count": 38,
   "id": "80805ee1",
   "metadata": {},
   "outputs": [
    {
     "data": {
      "text/plain": [
       "(array([0., 0., 0.]),\n",
       " array([[1., 0., 0.],\n",
       "        [0., 1., 0.],\n",
       "        [0., 0., 1.]]))"
      ]
     },
     "execution_count": 38,
     "metadata": {},
     "output_type": "execute_result"
    }
   ],
   "source": [
    "np.linalg.eig(A4)"
   ]
  }
 ],
 "metadata": {
  "kernelspec": {
   "display_name": "Python 3",
   "language": "python",
   "name": "python3"
  },
  "language_info": {
   "codemirror_mode": {
    "name": "ipython",
    "version": 3
   },
   "file_extension": ".py",
   "mimetype": "text/x-python",
   "name": "python",
   "nbconvert_exporter": "python",
   "pygments_lexer": "ipython3",
   "version": "3.8.8"
  }
 },
 "nbformat": 4,
 "nbformat_minor": 5
}
